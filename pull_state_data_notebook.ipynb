{
 "cells": [
  {
   "cell_type": "code",
   "execution_count": 10,
   "metadata": {},
   "outputs": [],
   "source": [
    "import requests\n",
    "import pandas as pd\n",
    "\n",
    "api_endpoint = 'https://data.cdc.gov/resource/9mfq-cb36.json'\n",
    "api_token = 'qnEZ0rOS7wZ2E2lZJarNWTNRE'  \n",
    "\n",
    "file_path = r'C:\\Users\\ajsar\\Documents\\results.json'"
   ]
  },
  {
   "cell_type": "code",
   "execution_count": 11,
   "metadata": {},
   "outputs": [],
   "source": [
    "offset = 0\n",
    "chunk = 1"
   ]
  },
  {
   "cell_type": "code",
   "execution_count": 12,
   "metadata": {},
   "outputs": [
    {
     "name": "stdout",
     "output_type": "stream",
     "text": [
      "Sending Get Request tohttps://data.cdc.gov/resource/9mfq-cb36.json?$offset=0\n",
      "Sending Get Request tohttps://data.cdc.gov/resource/9mfq-cb36.json?$offset=1000\n",
      "Sending Get Request tohttps://data.cdc.gov/resource/9mfq-cb36.json?$offset=2000\n",
      "Sending Get Request tohttps://data.cdc.gov/resource/9mfq-cb36.json?$offset=3000\n",
      "Sending Get Request tohttps://data.cdc.gov/resource/9mfq-cb36.json?$offset=4000\n",
      "Sending Get Request tohttps://data.cdc.gov/resource/9mfq-cb36.json?$offset=5000\n",
      "Sending Get Request tohttps://data.cdc.gov/resource/9mfq-cb36.json?$offset=6000\n",
      "Sending Get Request tohttps://data.cdc.gov/resource/9mfq-cb36.json?$offset=7000\n",
      "Sending Get Request tohttps://data.cdc.gov/resource/9mfq-cb36.json?$offset=8000\n",
      "Sending Get Request tohttps://data.cdc.gov/resource/9mfq-cb36.json?$offset=9000\n",
      "Sending Get Request tohttps://data.cdc.gov/resource/9mfq-cb36.json?$offset=10000\n",
      "Sending Get Request tohttps://data.cdc.gov/resource/9mfq-cb36.json?$offset=11000\n",
      "Sending Get Request tohttps://data.cdc.gov/resource/9mfq-cb36.json?$offset=12000\n",
      "Sending Get Request tohttps://data.cdc.gov/resource/9mfq-cb36.json?$offset=13000\n",
      "Sending Get Request tohttps://data.cdc.gov/resource/9mfq-cb36.json?$offset=14000\n",
      "Sending Get Request tohttps://data.cdc.gov/resource/9mfq-cb36.json?$offset=15000\n",
      "Sending Get Request tohttps://data.cdc.gov/resource/9mfq-cb36.json?$offset=16000\n",
      "Sending Get Request tohttps://data.cdc.gov/resource/9mfq-cb36.json?$offset=17000\n",
      "Sending Get Request tohttps://data.cdc.gov/resource/9mfq-cb36.json?$offset=18000\n",
      "Sending Get Request tohttps://data.cdc.gov/resource/9mfq-cb36.json?$offset=19000\n",
      "Sending Get Request tohttps://data.cdc.gov/resource/9mfq-cb36.json?$offset=20000\n",
      "Sending Get Request tohttps://data.cdc.gov/resource/9mfq-cb36.json?$offset=21000\n",
      "Sending Get Request tohttps://data.cdc.gov/resource/9mfq-cb36.json?$offset=22000\n",
      "Sending Get Request tohttps://data.cdc.gov/resource/9mfq-cb36.json?$offset=23000\n",
      "Sending Get Request tohttps://data.cdc.gov/resource/9mfq-cb36.json?$offset=24000\n",
      "Sending Get Request tohttps://data.cdc.gov/resource/9mfq-cb36.json?$offset=25000\n",
      "Sending Get Request tohttps://data.cdc.gov/resource/9mfq-cb36.json?$offset=26000\n",
      "Sending Get Request tohttps://data.cdc.gov/resource/9mfq-cb36.json?$offset=27000\n",
      "Sending Get Request tohttps://data.cdc.gov/resource/9mfq-cb36.json?$offset=28000\n",
      "Sending Get Request tohttps://data.cdc.gov/resource/9mfq-cb36.json?$offset=29000\n",
      "Sending Get Request tohttps://data.cdc.gov/resource/9mfq-cb36.json?$offset=30000\n",
      "Sending Get Request tohttps://data.cdc.gov/resource/9mfq-cb36.json?$offset=31000\n",
      "Sending Get Request tohttps://data.cdc.gov/resource/9mfq-cb36.json?$offset=32000\n",
      "Sending Get Request tohttps://data.cdc.gov/resource/9mfq-cb36.json?$offset=33000\n",
      "Sending Get Request tohttps://data.cdc.gov/resource/9mfq-cb36.json?$offset=34000\n",
      "Sending Get Request tohttps://data.cdc.gov/resource/9mfq-cb36.json?$offset=35000\n",
      "Sending Get Request tohttps://data.cdc.gov/resource/9mfq-cb36.json?$offset=36000\n",
      "Sending Get Request tohttps://data.cdc.gov/resource/9mfq-cb36.json?$offset=37000\n",
      "Sending Get Request tohttps://data.cdc.gov/resource/9mfq-cb36.json?$offset=38000\n",
      "Sending Get Request tohttps://data.cdc.gov/resource/9mfq-cb36.json?$offset=39000\n",
      "Sending Get Request tohttps://data.cdc.gov/resource/9mfq-cb36.json?$offset=40000\n",
      "Sending Get Request tohttps://data.cdc.gov/resource/9mfq-cb36.json?$offset=41000\n",
      "Sending Get Request tohttps://data.cdc.gov/resource/9mfq-cb36.json?$offset=42000\n",
      "Sending Get Request tohttps://data.cdc.gov/resource/9mfq-cb36.json?$offset=43000\n",
      "Sending Get Request tohttps://data.cdc.gov/resource/9mfq-cb36.json?$offset=44000\n",
      "Sending Get Request tohttps://data.cdc.gov/resource/9mfq-cb36.json?$offset=45000\n",
      "Sending Get Request tohttps://data.cdc.gov/resource/9mfq-cb36.json?$offset=46000\n"
     ]
    }
   ],
   "source": [
    "while chunk > 0:\n",
    "    url_string = api_endpoint+f'?$offset={offset}'\n",
    "    print('Sending Get Request to' + url_string)\n",
    "    r = requests.get(url_string, headers={'X-App-token':api_token})\n",
    "\n",
    "    if offset == 0:\n",
    "        results_df = pd.DataFrame.from_records(r.json())\n",
    "    else:\n",
    "        results_df = results_df.append(pd.DataFrame.from_records(r.json()))\n",
    "\n",
    "    chunk = len(r.json())\n",
    "    offset += 1000"
   ]
  }
 ],
 "metadata": {
  "interpreter": {
   "hash": "69eb92836b941e979072a76c7fcfffe5419cca933cedd02cfafbdfca1a93358c"
  },
  "kernelspec": {
   "display_name": "Python 3.9.10 64-bit",
   "language": "python",
   "name": "python3"
  },
  "language_info": {
   "codemirror_mode": {
    "name": "ipython",
    "version": 3
   },
   "file_extension": ".py",
   "mimetype": "text/x-python",
   "name": "python",
   "nbconvert_exporter": "python",
   "pygments_lexer": "ipython3",
   "version": "3.9.10"
  },
  "orig_nbformat": 4
 },
 "nbformat": 4,
 "nbformat_minor": 2
}
